{
 "cells": [
  {
   "cell_type": "markdown",
   "id": "abccd502-15a3-4eb5-905d-b9e0e615430b",
   "metadata": {},
   "source": [
    "# Lesson 01 - Python Reference"
   ]
  },
  {
   "attachments": {
    "3e40ae9d-aba0-4786-aa4a-cde20b1d82b7.png": {
     "image/png": "[encoded data removed]"
    },
    "73b03c21-1bb3-4a60-a4a0-2b11208b9a1a.png": {
     "image/png": "[encoded data removed]"
    },
    "77fb7c29-d5a3-4ce3-914d-03d5dea4461b.png": {
     "image/png": "[encoded data removed]"
    }
   },
   "cell_type": "markdown",
   "id": "cea13660-16a8-4da1-a840-b5469224a523",
   "metadata": {},
   "source": [
    "## Using JupyterLab\n",
    "\n",
    "JupyterLab is an application that allows you to create \"notebooks\" which are comprised of individual \"cells\", each of which can run an arbitrary amount of Python code. You type your Python code into the cell, execute the cell, and any output is displayed immediately under the executed cell.\n",
    "\n",
    "A notebook can be operated on using _commands_ (such as \"Run Cell\" and \"Save Notebook\"). There are buttons for _some_ of these commands at the top of the notebook:\n",
    "\n",
    "![image.png](attachment:77fb7c29-d5a3-4ce3-914d-03d5dea4461b.png)\n",
    "\n",
    "However, instead of using your mouse to click the buttons to run the commands, it is much easier to use _keyboard shortcuts_ while in the notebook. \n",
    "\n",
    "To use these shortcuts, it's important to learn the difference between **Edit Mode** and **Command Mode**.\n",
    "\n",
    "Click into a cell. It should now look like this, indicating your are in **Edit Mode**:\n",
    "![image.png](attachment:73b03c21-1bb3-4a60-a4a0-2b11208b9a1a.png)\n",
    "\n",
    "Click outside of a cell. It should now look like this, indicating you are in **Command Mode**:\n",
    "![image.png](attachment:3e40ae9d-aba0-4786-aa4a-cde20b1d82b7.png)"
   ]
  },
  {
   "cell_type": "code",
   "execution_count": null,
   "id": "7380ec1d-bf7d-4129-bc83-8705f08fde6a",
   "metadata": {},
   "outputs": [],
   "source": []
  },
  {
   "cell_type": "markdown",
   "id": "78eb7c27-12cd-4223-8cee-669baff84f4e",
   "metadata": {},
   "source": [
    "When you are in **Edit Mode**, there are three main shortcuts:\n",
    "* Type `[Esc]` to go from \"Edit Mode\" to \"Command Mode\"\n",
    "* Type `[Shift]+[Enter]` to **Run** your cell and then advance\n",
    "* Type `[Ctrl]+[Enter]` to **Run** your cell and stay on the cell\n",
    "\n",
    "When you are in **Command Mode**, there are more shortcuts. Helpful ones include:\n",
    "* Type `a` to add a cell *above*\n",
    "* Type `b` to add a cell *below*\n",
    "* Type `c` to *copy* a cell\n",
    "* TYpe `x` to *cut* a cell\n",
    "* Type `v` to *paste* a cell\n",
    "* Type `z` to *undo* a Command Mode operation (e.g. undo deleting a cell)\n",
    "* Type `[Enter]` to go from \"Command Mode\" to \"Edit Mode\"\n",
    "* Type `m` when a `code` cell is selected to change the cell to a _Markdown_ cell\n",
    "* Type `y` when a _Markdown_ cell is selected to change the cell to a `code` cell\n",
    "* Type `[Ctrl]+b` to hide/show the left side-bar"
   ]
  },
  {
   "attachments": {
    "429526c1-0bb9-4a46-9560-f97ec3b5a388.png": {
     "image/png": "[encoded data removed]"
    },
    "59b4c365-f5c5-4a17-aa8c-c3bc0a3e4f5c.png": {
     "image/png": "[encoded data removed]"
    }
   },
   "cell_type": "markdown",
   "id": "09472483-90ca-42f4-91fa-3fb68e87b891",
   "metadata": {
    "tags": []
   },
   "source": [
    "## Two kinds of cells: Markdown and `Code`\n",
    "\n",
    "A `code` cell looks like this (notice the square brackets, `[]:`):\n",
    "\n",
    "![image.png](attachment:429526c1-0bb9-4a46-9560-f97ec3b5a388.png)\n",
    "\n",
    "A _Markdown_ cell looks like this (no square brackets):\n",
    "\n",
    "![image.png](attachment:59b4c365-f5c5-4a17-aa8c-c3bc0a3e4f5c.png)"
   ]
  },
  {
   "cell_type": "markdown",
   "id": "2f3da336-5c4b-4668-8484-7e6db05374df",
   "metadata": {},
   "source": [
    "## What is _Markdown_?\n",
    "\n",
    "Markdown is a mark-up language (like HTML: hyper-text markup language) that allows you to write richly-formatted text by using symbols in plain text. In other words, it's a like a short-hand way of writing HTML.\n",
    "\n",
    "When you write it out, Markdown looks like this:\n",
    "\n",
    "```markdown\n",
    "This text is **bold**.\n",
    "This text is _italic_.\n",
    "\n",
    "These are bullet points:\n",
    "* Bullet one\n",
    "* Bullet two\n",
    "* Bullet three\n",
    "\n",
    "This is a numbered list:\n",
    "1. My main point\n",
    "2. My second point\n",
    "   1. My second sub-point\n",
    "   2. My other second sub-point\n",
    "3. My third point\n",
    "\n",
    "This is a link to [the Python docs](https://www.python.org).\n",
    "\n",
    "# This is a first level heading\n",
    "## This is a second level heading\n",
    "### This is a third level heading\n",
    "#### This is a fourth level heading\n",
    "##### This is a fifth level heading\n",
    "###### This is a sixth level heading\n",
    "```\n",
    "\n",
    "Select all of the example Markdown text above and copy/paste it into a Markdown cell below (type `m` when in command mode) then use `[Shift]-[Enter]` to run the cell and see the Markdown text get rendered. \n",
    "\n",
    "After you render it, **double-click** the Markdown cell to edit it again or press `[Enter]` when in **Command Mode** to go to Edit Mode."
   ]
  },
  {
   "cell_type": "code",
   "execution_count": null,
   "id": "5491cbc0-daa5-420a-aea2-f89f2ff7d335",
   "metadata": {},
   "outputs": [],
   "source": []
  },
  {
   "cell_type": "markdown",
   "id": "6dbc835d-cbe7-4b29-804d-57ad68d2d30d",
   "metadata": {},
   "source": [
    "## Using Python in `code` cells\n",
    "\n",
    "Get to know the _basics_ of Python syntax."
   ]
  },
  {
   "cell_type": "markdown",
   "id": "05590934-c03e-4420-a816-74689f124fb3",
   "metadata": {},
   "source": [
    "### Math operators\n",
    "\n",
    "* `+` Addition\n",
    "* `-` Subtraction\n",
    "* `*` Multiplication\n",
    "* `/` True division\n",
    "* `**` Exponentiation\n",
    "* `//` Floor division (returns the \"whole\" part of the division operation, always an integer)\n",
    "* `%` Modulo (returns the \"remainder\" of the division operation)"
   ]
  },
  {
   "cell_type": "code",
   "execution_count": null,
   "id": "dc00ebb9-beb3-487b-bad3-046edd63cf9f",
   "metadata": {},
   "outputs": [],
   "source": []
  },
  {
   "cell_type": "markdown",
   "id": "556db019-5098-4e43-88bd-07c026794e5c",
   "metadata": {},
   "source": [
    "### Python variables\n",
    "\n",
    "Assign any value to a symbol by using the `=` sign.\n",
    "\n",
    "```python\n",
    "a = 32.3 # this type of value is called a \"float\" (floating-point number)\n",
    "b = \"L152x152x13\" # this type of value is called a \"str\" (a string of characters)\n",
    "c = -5 # this type of value is called an \"int\" (an integer)\n",
    "section_list = [\"W360x122\", \"W310x52\"] # this type of value is called a \"list\" (this list contains strings)\n",
    "```\n",
    "\n",
    "In this instance, `a`, `b`, `section_list` are now _symbols_ which store the values that have been assigned to them using the _assignment operator_ (`=`).\n",
    "\n",
    "These symbols are now called _variables_ because the values assigned to these symbols can change, can vary."
   ]
  },
  {
   "cell_type": "code",
   "execution_count": null,
   "id": "52ee7ffb-6c30-4b37-85ed-5bdc2647cf7b",
   "metadata": {},
   "outputs": [],
   "source": []
  },
  {
   "cell_type": "markdown",
   "id": "dbb82ead-2094-4eed-94e9-808a097e3570",
   "metadata": {},
   "source": [
    "## Python numbers\n",
    "\n",
    "There are two basic kinds of numbers: `float` and `int` (floating-point numbers and integers).\n",
    "\n",
    "Floating-point numbers are decimals. Any number with a decimal place (e.g. `1.0`) is of type `float`.\n",
    "\n",
    "Integer numbers are whole numbers (e.g. `1230`). Integers cannot have a decimal point. If they do, then they are a `float`.\n",
    "\n",
    "Any number in quotation marks, e.g. `\"123.2\"` is no longer a number. It becomes a `str` (string of characters)."
   ]
  },
  {
   "cell_type": "code",
   "execution_count": null,
   "id": "81191104-a698-46e1-aa55-807b2f1a4d92",
   "metadata": {},
   "outputs": [],
   "source": []
  },
  {
   "cell_type": "markdown",
   "id": "b898e8db-df49-4c9e-a2ba-276b269aa0d3",
   "metadata": {},
   "source": [
    "### Python strings\n",
    "\n",
    "Text in Python (and other programming languages) are called \"strings\" (i.e. a \"string\" of characters). Strings are called `str` in Python.\n",
    "\n",
    "Strings are created by putting anything in quotation marks:\n",
    "\n",
    "```python\n",
    "string_a = \"D. Fir No. 2\"\n",
    "string_b = 'S-P-F No. 2' # Either single or double quotes are fine\n",
    "```\n",
    "\n",
    "Strings can be anything that can be encoded in [Unicode](https://unicode-table.com/en/):\n",
    "\n",
    "```python\n",
    "string_c = \"Do we need D. Fir SS? ...I dunno...expensive!\"\n",
    "string_d = '😍ᱣ⅗⻆'\n",
    "```"
   ]
  },
  {
   "cell_type": "code",
   "execution_count": null,
   "id": "39f9edc1-da02-485b-b846-31738f88fe79",
   "metadata": {},
   "outputs": [],
   "source": []
  },
  {
   "cell_type": "markdown",
   "id": "46cc46ca-64c1-43d8-92ca-c1da543eca9e",
   "metadata": {},
   "source": [
    "### Python comments\n",
    "\n",
    "```python\n",
    "# Use the \"octothorpe\" (or \"hash\") symbol\n",
    "# to ensure that any code after it\n",
    "# does not run\n",
    "# e.g. \n",
    "# 1 + 4\n",
    "```"
   ]
  },
  {
   "cell_type": "code",
   "execution_count": null,
   "id": "6a6a7c3a-5370-41ac-bc24-3b23a2087d1e",
   "metadata": {},
   "outputs": [],
   "source": []
  },
  {
   "cell_type": "markdown",
   "id": "45ec9e42-4f38-4642-b34c-862cd1eaaca9",
   "metadata": {},
   "source": [
    "## _Calling_ a Python function\n",
    "\n",
    "Python features several built-in _functions_. Functions are pre-written pieces of code that you can execute as you may need them. Some functions require _arguments_, or inputs, to be provided to them, some functions do not.\n",
    "\n",
    "Functions are _identified_ by their name, e.g. `print`, `help`, `min`, `max`\n",
    "\n",
    "Functions are **called** by putting parentheses, `()` after their name, e.g. `print()`, `help()`, `min()`, `max()`. Calling a function is the same as _executing_ a function.\n",
    "\n",
    "In coding, parentheses are often called \"parens\" (because it's less to type).\n",
    "\n",
    "You _pass arguments_ to a function you are calling by adding them between the parens, e.g. `print(4 + 3)`, `help(print)`, `min([4, 2, 7])`, `max([4, 2, 7])`. \n",
    "\n",
    "Arguments are separated by commas (e.g. `print(2, 3)`).\n",
    "\n",
    "Arguments can also be _expressions_ that evaluate to a single value (e.g. `print(4 + 2)` is the same as `print(6)`)."
   ]
  },
  {
   "cell_type": "code",
   "execution_count": null,
   "id": "cc5868d9-af0a-4dd2-b528-f42165693397",
   "metadata": {},
   "outputs": [],
   "source": []
  },
  {
   "cell_type": "markdown",
   "id": "4d13a856-d428-413b-a56e-6fda72864b4b",
   "metadata": {},
   "source": [
    "### Some Useful Python Built-in functions to remember:\n",
    "\n",
    "* `print(obj)` - Call `print()` on anything in Python to see a string representation of it printed to the screen.\n",
    "* `help(obj)` - Call `help()` on anything in Python to learn more about how to use it\n",
    "* `type(obj)` - Call `type()` on anything in Python to return its _type_ (e.g. `int`, `str`, `list`, `float`, etc.)\n",
    "* `len(iter)` - Call `len()` on an \"iterable\" (e.g. list, tuple) to return the number of items in the iterable\n",
    "* `max(iter)` - Call `max()` on an \"iterable\" (e.g. list, tuple) containing numbers to get the maximum value in the iterable\n",
    "* `min(iter)` - Call `min()` on an \"iterable\" (e.g. list, tuple) containing numbers to get the minimum value in the iterable\n",
    "* `sum(iter)` - Call `sum()` on an \"iterable\" (e.g. list, tuple) containing numbers to get the sum of all the values in the iterable\n",
    "* `abs(number)` - Get the absolute value of a number\n",
    "* `round(number, [n])` - Round a `float` number to `n` number of decimal places. `n` is optional so if it is not given, the decimal will be rounded to the nearest integer (zero decimal places)\n",
    "\n",
    "#### \"Type\" functions\n",
    "\n",
    "Every builtin \"type\" in Python can also be used as a function. This function allows _compatible_ objects to be _converted_ into a particular type. \n",
    "\n",
    "A common use for these functions is to convert _compatible_ `str` objects into a numbers (e.g. `float` and `int`) and to convert numbers into `str` objects.\n",
    "\n",
    "e.g.\n",
    "```python\n",
    "# Converting compatible strings to numbers\n",
    "float(\"23.5\")\n",
    "int('-3430')\n",
    "\n",
    "# Converting numbers into strings\n",
    "str(23.5)\n",
    "str(-3430)\n",
    "```\n"
   ]
  },
  {
   "cell_type": "code",
   "execution_count": 2,
   "id": "fd26ffbc-48c6-4bd6-b20d-b7c6fbc3040c",
   "metadata": {},
   "outputs": [],
   "source": [
    "import builtins"
   ]
  },
  {
   "cell_type": "code",
   "execution_count": 3,
   "id": "bbd9ee36-9e74-4f46-aa8d-be17a8345813",
   "metadata": {},
   "outputs": [
    {
     "data": {
      "text/plain": [
       "['ArithmeticError',\n",
       " 'AssertionError',\n",
       " 'AttributeError',\n",
       " 'BaseException',\n",
       " 'BlockingIOError',\n",
       " 'BrokenPipeError',\n",
       " 'BufferError',\n",
       " 'BytesWarning',\n",
       " 'ChildProcessError',\n",
       " 'ConnectionAbortedError',\n",
       " 'ConnectionError',\n",
       " 'ConnectionRefusedError',\n",
       " 'ConnectionResetError',\n",
       " 'DeprecationWarning',\n",
       " 'EOFError',\n",
       " 'Ellipsis',\n",
       " 'EncodingWarning',\n",
       " 'EnvironmentError',\n",
       " 'Exception',\n",
       " 'False',\n",
       " 'FileExistsError',\n",
       " 'FileNotFoundError',\n",
       " 'FloatingPointError',\n",
       " 'FutureWarning',\n",
       " 'GeneratorExit',\n",
       " 'IOError',\n",
       " 'ImportError',\n",
       " 'ImportWarning',\n",
       " 'IndentationError',\n",
       " 'IndexError',\n",
       " 'InterruptedError',\n",
       " 'IsADirectoryError',\n",
       " 'KeyError',\n",
       " 'KeyboardInterrupt',\n",
       " 'LookupError',\n",
       " 'MemoryError',\n",
       " 'ModuleNotFoundError',\n",
       " 'NameError',\n",
       " 'None',\n",
       " 'NotADirectoryError',\n",
       " 'NotImplemented',\n",
       " 'NotImplementedError',\n",
       " 'OSError',\n",
       " 'OverflowError',\n",
       " 'PendingDeprecationWarning',\n",
       " 'PermissionError',\n",
       " 'ProcessLookupError',\n",
       " 'RecursionError',\n",
       " 'ReferenceError',\n",
       " 'ResourceWarning',\n",
       " 'RuntimeError',\n",
       " 'RuntimeWarning',\n",
       " 'StopAsyncIteration',\n",
       " 'StopIteration',\n",
       " 'SyntaxError',\n",
       " 'SyntaxWarning',\n",
       " 'SystemError',\n",
       " 'SystemExit',\n",
       " 'TabError',\n",
       " 'TimeoutError',\n",
       " 'True',\n",
       " 'TypeError',\n",
       " 'UnboundLocalError',\n",
       " 'UnicodeDecodeError',\n",
       " 'UnicodeEncodeError',\n",
       " 'UnicodeError',\n",
       " 'UnicodeTranslateError',\n",
       " 'UnicodeWarning',\n",
       " 'UserWarning',\n",
       " 'ValueError',\n",
       " 'Warning',\n",
       " 'ZeroDivisionError',\n",
       " '__IPYTHON__',\n",
       " '__build_class__',\n",
       " '__debug__',\n",
       " '__doc__',\n",
       " '__import__',\n",
       " '__loader__',\n",
       " '__name__',\n",
       " '__package__',\n",
       " '__spec__',\n",
       " 'abs',\n",
       " 'aiter',\n",
       " 'all',\n",
       " 'anext',\n",
       " 'any',\n",
       " 'ascii',\n",
       " 'bin',\n",
       " 'bool',\n",
       " 'breakpoint',\n",
       " 'bytearray',\n",
       " 'bytes',\n",
       " 'callable',\n",
       " 'chr',\n",
       " 'classmethod',\n",
       " 'compile',\n",
       " 'complex',\n",
       " 'copyright',\n",
       " 'credits',\n",
       " 'delattr',\n",
       " 'dict',\n",
       " 'dir',\n",
       " 'display',\n",
       " 'divmod',\n",
       " 'enumerate',\n",
       " 'eval',\n",
       " 'exec',\n",
       " 'execfile',\n",
       " 'filter',\n",
       " 'float',\n",
       " 'format',\n",
       " 'frozenset',\n",
       " 'get_ipython',\n",
       " 'getattr',\n",
       " 'globals',\n",
       " 'hasattr',\n",
       " 'hash',\n",
       " 'help',\n",
       " 'hex',\n",
       " 'id',\n",
       " 'input',\n",
       " 'int',\n",
       " 'isinstance',\n",
       " 'issubclass',\n",
       " 'iter',\n",
       " 'len',\n",
       " 'license',\n",
       " 'list',\n",
       " 'locals',\n",
       " 'map',\n",
       " 'max',\n",
       " 'memoryview',\n",
       " 'min',\n",
       " 'next',\n",
       " 'object',\n",
       " 'oct',\n",
       " 'open',\n",
       " 'ord',\n",
       " 'pow',\n",
       " 'print',\n",
       " 'property',\n",
       " 'range',\n",
       " 'repr',\n",
       " 'reversed',\n",
       " 'round',\n",
       " 'runfile',\n",
       " 'set',\n",
       " 'setattr',\n",
       " 'slice',\n",
       " 'sorted',\n",
       " 'staticmethod',\n",
       " 'str',\n",
       " 'sum',\n",
       " 'super',\n",
       " 'tuple',\n",
       " 'type',\n",
       " 'vars',\n",
       " 'zip']"
      ]
     },
     "execution_count": 3,
     "metadata": {},
     "output_type": "execute_result"
    }
   ],
   "source": [
    "dir(builtins)"
   ]
  },
  {
   "cell_type": "code",
   "execution_count": null,
   "id": "173ec409-7773-40da-9e12-a2d93bfc74ae",
   "metadata": {},
   "outputs": [],
   "source": []
  }
 ],
 "metadata": {
  "kernelspec": {
   "display_name": "python_course",
   "language": "python",
   "name": "python_course"
  },
  "language_info": {
   "codemirror_mode": {
    "name": "ipython",
    "version": 3
   },
   "file_extension": ".py",
   "mimetype": "text/x-python",
   "name": "python",
   "nbconvert_exporter": "python",
   "pygments_lexer": "ipython3",
   "version": "3.9.12"
  }
 },
 "nbformat": 4,
 "nbformat_minor": 5
}
