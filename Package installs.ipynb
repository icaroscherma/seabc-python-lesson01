{
 "cells": [
  {
   "cell_type": "code",
   "execution_count": null,
   "id": "46f084e1-e324-4f0b-8451-478685171a01",
   "metadata": {},
   "outputs": [],
   "source": [
    "pip install numpy pandas sympy shapely sectionproperties concreteproperties handcalcs forallpeople plotly pyautogui pytest ipytest pint comtypes rich mljar-mercury"
   ]
  }
 ],
 "metadata": {
  "kernelspec": {
   "display_name": "Python 3 (ipykernel)",
   "language": "python",
   "name": "python3"
  },
  "language_info": {
   "codemirror_mode": {
    "name": "ipython",
    "version": 3
   },
   "file_extension": ".py",
   "mimetype": "text/x-python",
   "name": "python",
   "nbconvert_exporter": "python",
   "pygments_lexer": "ipython3",
   "version": "3.10.4"
  }
 },
 "nbformat": 4,
 "nbformat_minor": 5
}
