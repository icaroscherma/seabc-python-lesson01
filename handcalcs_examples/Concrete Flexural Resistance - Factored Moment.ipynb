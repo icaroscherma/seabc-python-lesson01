{
 "cells": [
  {
   "cell_type": "code",
   "execution_count": 93,
   "metadata": {},
   "outputs": [],
   "source": [
    "import forallpeople\n",
    "import handcalcs.render\n",
    "forallpeople.environment('structural', top_level=True)"
   ]
  },
  {
   "cell_type": "markdown",
   "metadata": {},
   "source": [
    "# Concrete Flexural Resistance  - $M_f$ given\n",
    "\n",
    "For simple checks on concrete flexural resistance"
   ]
  },
  {
   "cell_type": "code",
   "execution_count": 94,
   "metadata": {},
   "outputs": [],
   "source": [
    "## Inputs\n",
    "M_f = 52.3e6 # N-mm\n",
    "h_c = 250 # mm\n",
    "b = 1200 # mm\n",
    "cover = 20 # mm\n",
    "d_b = 20 # mm\n",
    "\n",
    "phi_c = 0.65\n",
    "f_c = 30 # MPa\n",
    "f_y = 400 # MPa"
   ]
  },
  {
   "cell_type": "markdown",
   "metadata": {},
   "source": [
    "## Section parameters"
   ]
  },
  {
   "cell_type": "code",
   "execution_count": 95,
   "metadata": {},
   "outputs": [
    {
     "data": {
      "text/latex": [
       "\\[\n",
       "\\begin{aligned}\n",
       "b &= 1200 \\; \\;\\textrm{(mm)}\n",
       " &\\mathrm{cover} &= 20 \\; \\;\\textrm{(mm)}\n",
       " &d_{b} &= 20 \\; \\;\\textrm{(mm)}\n",
       "\\\\[10pt]\n",
       " \\phi_{c} &= 0.650 \\; \n",
       " &f_{c} &= 30 \\; \\;\\textrm{(MPa)}\n",
       " &f_{y} &= 400 \\; \\;\\textrm{(MPa)}\n",
       "\\\\[10pt]\n",
       "\\end{aligned}\n",
       "\\]"
      ],
      "text/plain": [
       "<IPython.core.display.Latex object>"
      ]
     },
     "metadata": {},
     "output_type": "display_data"
    }
   ],
   "source": [
    "%%render params\n",
    "b # mm\n",
    "cover # mm\n",
    "d_b # mm\n",
    "phi_c\n",
    "f_c # MPa\n",
    "f_y # MPa"
   ]
  },
  {
   "cell_type": "markdown",
   "metadata": {},
   "source": [
    "## Factored Moment"
   ]
  },
  {
   "cell_type": "code",
   "execution_count": 96,
   "metadata": {},
   "outputs": [
    {
     "data": {
      "text/latex": [
       "\\[\n",
       "\\begin{aligned}\n",
       "M_{f} &= 52300000.000 \\; \\;\\textrm{(kN-m)}\n",
       "\\end{aligned}\n",
       "\\]"
      ],
      "text/plain": [
       "<IPython.core.display.Latex object>"
      ]
     },
     "metadata": {},
     "output_type": "display_data"
    }
   ],
   "source": [
    "%%render params\n",
    "M_f # kN-m\n"
   ]
  },
  {
   "cell_type": "markdown",
   "metadata": {},
   "source": [
    "## Size of lever arm"
   ]
  },
  {
   "cell_type": "code",
   "execution_count": 97,
   "metadata": {},
   "outputs": [
    {
     "data": {
      "text/latex": [
       "\\[\n",
       "\\begin{aligned}\n",
       "d &= \\operatorname{min} { \\left( 0.9 \\cdot h_{c} ,\\  h_{c} - \\mathrm{cover} - \\frac{ d_{b} }{ 2 } \\right) } \\\\&= \\operatorname{min} { \\left( 0.9 \\cdot 250 ,\\  250 - 20 - \\frac{ 20 }{ 2 } \\right) } \\\\&= 220.000 \\; \\;\\textrm{(mm)}\\\\[10pt]\n",
       "\\end{aligned}\n",
       "\\]"
      ],
      "text/plain": [
       "<IPython.core.display.Latex object>"
      ]
     },
     "metadata": {},
     "output_type": "display_data"
    }
   ],
   "source": [
    "%%render long\n",
    "d = min(0.9*(h_c), h_c-cover-d_b/2) # mm"
   ]
  },
  {
   "cell_type": "markdown",
   "metadata": {},
   "source": [
    "## Area of Steel Required"
   ]
  },
  {
   "cell_type": "code",
   "execution_count": 98,
   "metadata": {},
   "outputs": [],
   "source": [
    "from math import sqrt"
   ]
  },
  {
   "cell_type": "code",
   "execution_count": 99,
   "metadata": {},
   "outputs": [
    {
     "data": {
      "text/latex": [
       "\\[\n",
       "\\begin{aligned}\n",
       "A_{s_{req_{400}}} &= 0.0015 \\cdot f_{c} \\cdot b \\cdot \\left( d - \\sqrt { \\left( d \\right) ^{ 2 } - \\frac{ 3.85 \\cdot M_{f} }{ f_{c} \\cdot b } } \\right) \\\\&= 0.0015 \\cdot 30 \\cdot 1200 \\cdot \\left( 220.000 - \\sqrt { \\left( 220.000 \\right) ^{ 2 } - \\frac{ 3.85 \\cdot 52300000.000 }{ 30 \\cdot 1200 } } \\right) \\\\&= 707.505 \\; \\;\\textrm{(mm$^2$)}\\\\[10pt]\n",
       "\\end{aligned}\n",
       "\\]"
      ],
      "text/plain": [
       "<IPython.core.display.Latex object>"
      ]
     },
     "metadata": {},
     "output_type": "display_data"
    }
   ],
   "source": [
    "%%render long\n",
    "A_s_req_400 = 0.0015*f_c*b*(d - sqrt(d**2 - (3.85*M_f)/(f_c * b))) # mm$^2$"
   ]
  }
 ],
 "metadata": {
  "kernelspec": {
   "display_name": "Python 3 (ipykernel)",
   "language": "python",
   "name": "python3"
  },
  "language_info": {
   "codemirror_mode": {
    "name": "ipython",
    "version": 3
   },
   "file_extension": ".py",
   "mimetype": "text/x-python",
   "name": "python",
   "nbconvert_exporter": "python",
   "pygments_lexer": "ipython3",
   "version": "3.10.4"
  }
 },
 "nbformat": 4,
 "nbformat_minor": 4
}
