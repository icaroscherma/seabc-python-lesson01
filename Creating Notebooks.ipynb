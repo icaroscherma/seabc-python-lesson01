{
 "cells": [
  {
   "cell_type": "markdown",
   "id": "30bf4085-ae29-4626-bab7-cb97fdd41e62",
   "metadata": {},
   "source": [
    "# Use Markdown cells"
   ]
  },
  {
   "cell_type": "markdown",
   "id": "dc18caea-ef02-4d1b-8949-014471ebdc1e",
   "metadata": {},
   "source": [
    "By using Markdown cells, you can create explanations of what you are doing and describe your calculations.\n",
    "\n",
    "Just like in these lessons! :)\n",
    "\n",
    "Here is a handy markdown reference guide: https://commonmark.org/help/"
   ]
  },
  {
   "cell_type": "code",
   "execution_count": null,
   "id": "fd0431a0-4639-445f-a103-cf458620a232",
   "metadata": {},
   "outputs": [],
   "source": []
  },
  {
   "cell_type": "markdown",
   "id": "58933c8b-d94b-485e-8a3c-0c6169a94cd0",
   "metadata": {},
   "source": [
    "# Use pictures\n",
    "\n",
    "## Pictures from the clipboard\n",
    "\n",
    "1. Copy the picture you want to the clipboard (e.g. using a screen capture)\n",
    "2. Create a _Markdown_ cell\n",
    "3. Click into the markdown cell and type `Ctrl+v` to paste (like usual)\n",
    "\n",
    "## Pictures from a file\n",
    "\n",
    "```python\n",
    "from IPython.display import Image\n",
    "\n",
    "my_image_file = \"beam_diagram.png\" # File must be in your notebook dir\n",
    "my_image = Image(my_image_file)\n",
    "my_image\n",
    "```"
   ]
  },
  {
   "cell_type": "code",
   "execution_count": null,
   "id": "d23120f7-5dc9-4257-bd00-377db15bf2c9",
   "metadata": {},
   "outputs": [],
   "source": []
  },
  {
   "cell_type": "markdown",
   "id": "cb45a7a4-999d-4ad4-9644-ac0ba8c6824e",
   "metadata": {},
   "source": [
    "# IPython display functions\n",
    "\n",
    "Jupyter comes with many ways of displaying rich media. Some of these media types include:\n",
    "\n",
    "* Markdown\n",
    "* HTML\n",
    "* Latex\n",
    "* Image (PNG, JPG, GIF, etc.)\n",
    "* SVG (Scaleable Vector Graphics)\n",
    "* Video\n",
    "* Audio\n",
    "* Code\n",
    "\n",
    "**Some Typical imports**\n",
    "```python\n",
    "from IPython.display import Markdown, HTML, Image, SVG, Video # etc.\n",
    "from IPython.display import display\n",
    "```\n",
    "\n",
    "## How to use\n",
    "\n",
    "1. Use one of the content types to create a variable with your content\n",
    "2. Use `display` to display the content\n",
    "\n",
    "e.g.\n",
    "```python\n",
    "my_result = 3.4\n",
    "my_markdown_string = f\"**The result is `{my_result}`.**\"\n",
    "my_markdown_obj = Markdown(my_markdown_string)\n",
    "display(my_markdown_obj)\n",
    "```"
   ]
  },
  {
   "cell_type": "code",
   "execution_count": null,
   "id": "06664f73-469d-4fbf-be58-2f20449c7bc0",
   "metadata": {},
   "outputs": [],
   "source": []
  }
 ],
 "metadata": {
  "kernelspec": {
   "display_name": "Python 3 (ipykernel)",
   "language": "python",
   "name": "python3"
  },
  "language_info": {
   "codemirror_mode": {
    "name": "ipython",
    "version": 3
   },
   "file_extension": ".py",
   "mimetype": "text/x-python",
   "name": "python",
   "nbconvert_exporter": "python",
   "pygments_lexer": "ipython3",
   "version": "3.10.4"
  }
 },
 "nbformat": 4,
 "nbformat_minor": 5
}
